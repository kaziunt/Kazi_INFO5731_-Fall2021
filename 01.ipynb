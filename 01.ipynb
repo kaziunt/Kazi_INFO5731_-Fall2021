{
  "nbformat": 4,
  "nbformat_minor": 0,
  "metadata": {
    "colab": {
      "name": "01.ipynb",
      "provenance": [],
      "collapsed_sections": [],
      "include_colab_link": true
    },
    "kernelspec": {
      "display_name": "Python 3",
      "language": "python",
      "name": "python3"
    },
    "language_info": {
      "codemirror_mode": {
        "name": "ipython",
        "version": 3
      },
      "file_extension": ".py",
      "mimetype": "text/x-python",
      "name": "python",
      "nbconvert_exporter": "python",
      "pygments_lexer": "ipython3",
      "version": "3.7.3"
    }
  },
  "cells": [
    {
      "cell_type": "markdown",
      "metadata": {
        "id": "view-in-github",
        "colab_type": "text"
      },
      "source": [
        "<a href=\"https://colab.research.google.com/github/kaziunt/Kazi_INFO5731_-Fall2021/blob/main/01.ipynb\" target=\"_parent\"><img src=\"https://colab.research.google.com/assets/colab-badge.svg\" alt=\"Open In Colab\"/></a>"
      ]
    },
    {
      "cell_type": "markdown",
      "metadata": {
        "id": "DymRJbxDBCnf"
      },
      "source": [
        "# **The first In-class-exercise (09/01/2021, 40 points in total)**"
      ]
    },
    {
      "cell_type": "markdown",
      "metadata": {
        "id": "03jb4GZsBkBS"
      },
      "source": [
        "(1) Write a Python program to calculate the length of a string. (4 points)"
      ]
    },
    {
      "cell_type": "code",
      "metadata": {
        "colab": {
          "base_uri": "https://localhost:8080/"
        },
        "id": "YaGLbSHHB8Ej",
        "outputId": "90e28ea7-9ccd-4445-dc01-c6b8946f999a"
      },
      "source": [
        "# write your answer here\n",
        "string = 'Hello World' \n",
        "\n",
        "length = 0 # Initialising the length variable\n",
        "for i in string:\n",
        "  length+=1 # Increasing the length by 1 for each character\n",
        "print('Length of the string : '+str(length))"
      ],
      "execution_count": 14,
      "outputs": [
        {
          "output_type": "stream",
          "name": "stdout",
          "text": [
            "Length of the string : 11\n"
          ]
        }
      ]
    },
    {
      "cell_type": "markdown",
      "metadata": {
        "id": "jJDe71iLB616"
      },
      "source": [
        "(2) Write a Python program to count the number of characters in a string. (4 points)\n",
        "\n",
        "Sample String : 'google.com‘, \n",
        "\n",
        "Expected Result : {'o': 3, 'g': 2, '.': 1, 'e': 1, 'l': 1, 'm': 1, 'c': 1}"
      ]
    },
    {
      "cell_type": "code",
      "metadata": {
        "colab": {
          "base_uri": "https://localhost:8080/"
        },
        "id": "MtKskTzbCLaU",
        "outputId": "3ccdc925-ee14-40b9-c709-ce12d5f3882b"
      },
      "source": [
        "# write your answer here\n",
        "string = 'google.com'\n",
        "character_dict = {}\n",
        "for i in string:\n",
        "  if i in character_dict: # If the character is in dictionary then increasing its value by one else initialising to 1\n",
        "    character_dict[i]+=1\n",
        "  else:\n",
        "    character_dict[i]=1\n",
        "print(character_dict)"
      ],
      "execution_count": null,
      "outputs": [
        {
          "output_type": "stream",
          "name": "stdout",
          "text": [
            "{'g': 2, 'o': 3, 'l': 1, 'e': 1, '.': 1, 'c': 1, 'm': 1}\n"
          ]
        }
      ]
    },
    {
      "cell_type": "markdown",
      "metadata": {
        "id": "55W9AMdXCSpV"
      },
      "source": [
        "(3) Write a Python program to sum all the items in a list. (4 points)"
      ]
    },
    {
      "cell_type": "code",
      "metadata": {
        "colab": {
          "base_uri": "https://localhost:8080/"
        },
        "id": "I57NXsauCec2",
        "outputId": "b10ef1be-58f2-4954-aebc-008ca4fabb0f"
      },
      "source": [
        "# write your answer here\n",
        "items = [2,3,4,5,6]\n",
        "sum = 0\n",
        "for i in items:\n",
        "  sum+=i\n",
        "print(sum)"
      ],
      "execution_count": null,
      "outputs": [
        {
          "output_type": "stream",
          "name": "stdout",
          "text": [
            "20\n"
          ]
        }
      ]
    },
    {
      "cell_type": "markdown",
      "metadata": {
        "id": "4ulBZ6yhCi9F"
      },
      "source": [
        "(4) Write a Python program to get a string from a given string where all occurrences of its first char have been changed to '\\$', except the first char itself. (4 points)\n",
        "\n",
        "Sample String : 'restart‘, \n",
        "\n",
        "Expected Result : 'resta\\$t'"
      ]
    },
    {
      "cell_type": "code",
      "metadata": {
        "colab": {
          "base_uri": "https://localhost:8080/"
        },
        "id": "Fj0XhwbBCw2o",
        "outputId": "3b7e6e4d-1297-4ef8-b23c-03ed82aa5d42"
      },
      "source": [
        "# write your answer here\n",
        "string = 'restart'\n",
        "new_string = string[0] # Initialising the new string with first character\n",
        "for i in range(1,len(string)): # Comparing rest of the characters in string with first and if same found then writing $ in place else the character\n",
        "  if string[i] == string[0]:\n",
        "    new_string+='$'\n",
        "  else:\n",
        "    new_string+=string[i]\n",
        "\n",
        "print(new_string)"
      ],
      "execution_count": null,
      "outputs": [
        {
          "output_type": "stream",
          "name": "stdout",
          "text": [
            "resta$t\n"
          ]
        }
      ]
    },
    {
      "cell_type": "markdown",
      "metadata": {
        "id": "_bIP7s1MCzue"
      },
      "source": [
        "(5) Write a program with python which could accept two parameter a and b to calculate and output the result of S, where \n",
        "\n",
        "$\\ S=3.14*(1+a/b)^3$ (4 points)\n",
        "\n"
      ]
    },
    {
      "cell_type": "code",
      "metadata": {
        "colab": {
          "base_uri": "https://localhost:8080/"
        },
        "id": "w79QilHXD3Mg",
        "outputId": "36f1e92f-511f-4a3f-ad33-b58f40989bd6"
      },
      "source": [
        "# write your answer here\n",
        "a = int(input('a : '))\n",
        "b = int(input('b : '))\n",
        "S = 3.14 * ((1+ (a/b))**3)\n",
        "print(S)"
      ],
      "execution_count": null,
      "outputs": [
        {
          "output_type": "stream",
          "name": "stdout",
          "text": [
            "a : 2\n",
            "b : 3\n",
            "14.537037037037033\n"
          ]
        }
      ]
    },
    {
      "cell_type": "markdown",
      "metadata": {
        "id": "xCa2bK9aD4Q3"
      },
      "source": [
        "(6) Write a Python program to concatenate following dictionaries to create a new one. (4 points)\n",
        "\n",
        "Sample Dictionary : dic1={1:10, 2:20}, dic2={3:30, 4:40}, dic3={5:50,6:60}, \n",
        "\n",
        "Expected Result : {1: 10, 2: 20, 3: 30, 4: 40, 5: 50, 6: 60}\n"
      ]
    },
    {
      "cell_type": "code",
      "metadata": {
        "colab": {
          "base_uri": "https://localhost:8080/"
        },
        "id": "_z4aLqAbEET1",
        "outputId": "9850e81d-50cb-41a2-f96f-630d03b70d86"
      },
      "source": [
        "# write your answer here\n",
        "dic1={1:10, 2:20}\n",
        "dic2={3:30, 4:40}\n",
        "dic3={5:50,6:60}\n",
        "\n",
        "dic1.update(dic2) # Using update function to append next dictionary with previous one then assigning it to new variable\n",
        "dic1.update(dic3)\n",
        "out_dic = dic1\n",
        "print(out_dic)"
      ],
      "execution_count": null,
      "outputs": [
        {
          "output_type": "stream",
          "name": "stdout",
          "text": [
            "{1: 10, 2: 20, 3: 30, 4: 40, 5: 50, 6: 60}\n"
          ]
        }
      ]
    },
    {
      "cell_type": "markdown",
      "metadata": {
        "id": "0v48Vqa7FrQh"
      },
      "source": [
        "(7) Write a Python program to check whether an element exists within a tuple. (4 points)"
      ]
    },
    {
      "cell_type": "code",
      "metadata": {
        "colab": {
          "base_uri": "https://localhost:8080/"
        },
        "id": "7WEmgq-DF2P1",
        "outputId": "79563ba0-1aa7-40b3-f0eb-cc7a6e9aef99"
      },
      "source": [
        "# write your answer here\n",
        "tuple_ = (1,2,3,4,5)\n",
        "element = 2\n",
        "flag = False # Flag helps to know if to show not found message\n",
        "for i in tuple_: # Iterating throught tuple and matching element with iterated element\n",
        "  if i==element:\n",
        "    print('Element Exist')\n",
        "    flag = True\n",
        "\n",
        "if flag == False:\n",
        "  print('Element Does not exist')"
      ],
      "execution_count": null,
      "outputs": [
        {
          "output_type": "stream",
          "name": "stdout",
          "text": [
            "Element Exist\n"
          ]
        }
      ]
    },
    {
      "cell_type": "markdown",
      "metadata": {
        "id": "vD5PYLMuGga_"
      },
      "source": [
        "(8) Write a Python program to find maximum and the minimum value in a set. (4 points)"
      ]
    },
    {
      "cell_type": "code",
      "metadata": {
        "colab": {
          "base_uri": "https://localhost:8080/"
        },
        "id": "t0D5kdJUGjjw",
        "outputId": "a05fd6a9-2fc0-467f-8466-03fef40f4ed2"
      },
      "source": [
        "# write your answer here\n",
        "set_ = {0,-1,5}\n",
        "max = 0\n",
        "min = 0\n",
        "for i in set_:\n",
        "  if i>max:\n",
        "    max = i\n",
        "  if i<min:\n",
        "    min = i\n",
        "\n",
        "print('Max : '+str(max))\n",
        "print('Min : '+str(min))"
      ],
      "execution_count": null,
      "outputs": [
        {
          "output_type": "stream",
          "name": "stdout",
          "text": [
            "Max : 5\n",
            "Min : -1\n"
          ]
        }
      ]
    },
    {
      "cell_type": "markdown",
      "metadata": {
        "id": "uHkd-y5VhVWC"
      },
      "source": [
        "(9) Write a Python program to randomly divide the students in this class into six groups for term projects, each group should have at least 4 students but no more than 6 students (including 6). Here is the students list: (4 points)\n",
        "\n",
        "studnet_list = ['vmb0067','pc0353','snd0097','yye0005','sg0940','bk0301','rak0120','rrk0058','spk0057','vl0135','nm0547','pn0159',\n",
        "           'msp0174','dd0420','ds0761','rs0850','ss1995','at0739','at0768','mv0299','tv0119','dy0091','py0080','ttp0037','hc0439','ri0094','pk0339', 'hn0145','mn0426']"
      ]
    },
    {
      "cell_type": "code",
      "metadata": {
        "colab": {
          "base_uri": "https://localhost:8080/"
        },
        "id": "3iGbmcOBhTwy",
        "outputId": "4953e38f-53fb-4ba0-a693-a6dcbd8e10b6"
      },
      "source": [
        "# write your answer here\n",
        "from random import choice\n",
        "student_list = ['vmb0067','pc0353','snd0097','yye0005','sg0940','bk0301','rak0120','rrk0058','spk0057','vl0135','nm0547','pn0159', 'msp0174','dd0420','ds0761','rs0850','ss1995','at0739','at0768','mv0299','tv0119','dy0091','py0080','ttp0037','hc0439','ri0094','pk0339', 'hn0145','mn0426']\n",
        "groups = [[],[],[],[],[],[]]\n",
        "\n",
        "# Here we first assign the minimum required students to each grp then we assign the remaining students to different grps\n",
        "# If any grp gets assigned 2 students which leads to its length being 6 then we add the grp to log and dont consider it\n",
        "\n",
        "\n",
        "for j in range(6):\n",
        "  for i in range(4):\n",
        "    student = choice(student_list)\n",
        "    groups[j].append(student)\n",
        "    student_list.pop(student_list.index(student))\n",
        "\n",
        "log = []\n",
        "while len(student_list)>0:\n",
        "    grp = choice(groups)\n",
        "    if grp not in log:\n",
        "      student = choice(student_list)\n",
        "      grp.append(student)\n",
        "      student_list.pop(student_list.index(student))\n",
        "      if len(grp)==6:\n",
        "          log.append(grp)\n",
        "\n",
        "for y in groups:\n",
        "  print(y)"
      ],
      "execution_count": 13,
      "outputs": [
        {
          "output_type": "stream",
          "name": "stdout",
          "text": [
            "['yye0005', 'vmb0067', 'snd0097', 'vl0135']\n",
            "['py0080', 'at0739', 'nm0547', 'msp0174']\n",
            "['pn0159', 'sg0940', 'ss1995', 'hc0439', 'ds0761', 'ri0094']\n",
            "['pk0339', 'spk0057', 'ttp0037', 'rs0850', 'mv0299', 'dd0420']\n",
            "['mn0426', 'tv0119', 'rrk0058', 'hn0145', 'dy0091']\n",
            "['at0768', 'pc0353', 'bk0301', 'rak0120']\n"
          ]
        }
      ]
    },
    {
      "cell_type": "markdown",
      "metadata": {
        "id": "Hm45VxK2JQzN"
      },
      "source": [
        "(10) Write a Python program to find the duplicate elements in a given array of integers. Return -1 If there are no such elements. (4 points)"
      ]
    },
    {
      "cell_type": "code",
      "metadata": {
        "colab": {
          "base_uri": "https://localhost:8080/"
        },
        "id": "HGiZ-8hlJQzN",
        "outputId": "7d4f44bd-a334-4baa-d1b8-21ae784676b1"
      },
      "source": [
        "# write your answer here\n",
        "array = [1,2,3,1,4,4]\n",
        "flag = False\n",
        "log = []\n",
        "for i in array:\n",
        "  if array.count(i) > 1: # If element occurs more than once then printing it\n",
        "    if i not in log:\n",
        "      print(i)\n",
        "      log.append(i)\n",
        "      flag = True\n",
        "if flag == False:\n",
        "  print(-1)"
      ],
      "execution_count": null,
      "outputs": [
        {
          "output_type": "stream",
          "name": "stdout",
          "text": [
            "1\n",
            "4\n"
          ]
        }
      ]
    },
    {
      "cell_type": "markdown",
      "metadata": {
        "id": "a6tbZIWWJQzN"
      },
      "source": [
        "(11) Write a Python program to select all the Sundays of a specified year. (4 extra points)"
      ]
    },
    {
      "cell_type": "code",
      "metadata": {
        "colab": {
          "base_uri": "https://localhost:8080/"
        },
        "id": "nhJqsEHuJQzO",
        "outputId": "71c15a2a-53a5-4e33-e5a6-b2a5297e109b"
      },
      "source": [
        "# write your answer here\n",
        "from datetime import date, timedelta\n",
        "year = 2021\n",
        "d = date(year, 1, 1)                    # January 1st\n",
        "d += timedelta(days = 6 - d.weekday())  # We find the sunday of the week\n",
        "while d.year == year:\n",
        "  print(d)\n",
        "  d += timedelta(days = 7)"
      ],
      "execution_count": null,
      "outputs": [
        {
          "output_type": "stream",
          "name": "stdout",
          "text": [
            "2021-01-03\n",
            "2021-01-10\n",
            "2021-01-17\n",
            "2021-01-24\n",
            "2021-01-31\n",
            "2021-02-07\n",
            "2021-02-14\n",
            "2021-02-21\n",
            "2021-02-28\n",
            "2021-03-07\n",
            "2021-03-14\n",
            "2021-03-21\n",
            "2021-03-28\n",
            "2021-04-04\n",
            "2021-04-11\n",
            "2021-04-18\n",
            "2021-04-25\n",
            "2021-05-02\n",
            "2021-05-09\n",
            "2021-05-16\n",
            "2021-05-23\n",
            "2021-05-30\n",
            "2021-06-06\n",
            "2021-06-13\n",
            "2021-06-20\n",
            "2021-06-27\n",
            "2021-07-04\n",
            "2021-07-11\n",
            "2021-07-18\n",
            "2021-07-25\n",
            "2021-08-01\n",
            "2021-08-08\n",
            "2021-08-15\n",
            "2021-08-22\n",
            "2021-08-29\n",
            "2021-09-05\n",
            "2021-09-12\n",
            "2021-09-19\n",
            "2021-09-26\n",
            "2021-10-03\n",
            "2021-10-10\n",
            "2021-10-17\n",
            "2021-10-24\n",
            "2021-10-31\n",
            "2021-11-07\n",
            "2021-11-14\n",
            "2021-11-21\n",
            "2021-11-28\n",
            "2021-12-05\n",
            "2021-12-12\n",
            "2021-12-19\n",
            "2021-12-26\n"
          ]
        }
      ]
    },
    {
      "cell_type": "code",
      "metadata": {
        "id": "ulx1StWCG_eE"
      },
      "source": [
        ""
      ],
      "execution_count": null,
      "outputs": []
    }
  ]
}